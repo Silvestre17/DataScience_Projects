{
 "cells": [
  {
   "cell_type": "markdown",
   "id": "dd13b98d",
   "metadata": {},
   "source": [
    "<img src=\"https://www.iscte-iul.pt/assets/files/2020/11/20/1605875888912_rgb_iscte_pt_horizontal_positive__2_.png\"  style=\"width: 400px;\"/>"
   ]
  },
  {
   "cell_type": "markdown",
   "id": "5037b861",
   "metadata": {},
   "source": [
    "<center><h1> Trabalho de Grupo Intermédio |  TAD Lista</h1></center>"
   ]
  },
  {
   "cell_type": "markdown",
   "id": "bc61bb5f",
   "metadata": {},
   "source": [
    "<center>André Silvestre Nº104532 <b>|</b> Diogo Catarino Nº104745 <b>|</b> Eduardo Silva Nº104943 <b>|</b> Francisco Gomes Nº104944</center>\n"
   ]
  },
  {
   "cell_type": "markdown",
   "id": "2503267b",
   "metadata": {},
   "source": [
    "**UC:** Estruturas de Dados e Algoritmos\n",
    "\n",
    "**Docentes:** Prof.ª Maria Pinto-Albuquerque **|** Prof.ª Ana Maria de Almeida **|** Eng.º Ricardo António **|** Monitor Rodrigo Sarroeira"
   ]
  },
  {
   "cell_type": "markdown",
   "id": "8f6dd15c",
   "metadata": {},
   "source": [
    "# Introdução\n",
    "\n",
    "   Um **Tipo Abstrato de Dados (TAD)** especifica um conjunto de operações (métodos) e os seus processos (o que faz), mas não especifica a implementação das operações, o que o faz ser abstrato.\n",
    "   \n",
    "   A **Lista** é um poderoso, mas simples, mecanismo de recolha que fornece uma grande variedade de operações. Para além disso, a lista é uma coleção de itens onde cada item detém uma posição relativa em relação aos outros.\n",
    "   \n",
    "   Tendo por base esta temática, pretende-se com este projeto proposto no âmbito da Unidade Curricular de Estrutura de Dados e Algoritmos, explorar as representações do **TAD Lista** e os **Algoritmos de Pesquisa** e de **Ordenação**.\n",
    "\n",
    "   Para tal, começámos por desenvolver em linguagem Python uma Lista Dinâmica Duplamente Ligada e uma Simplesmente Circular, onde foram implementadas operações que utilizam o algoritmo de Pesquisa Binárias e os algoritmos de Ordenação _BubbleSort_ e de _Mergesort_.\n",
    "\n",
    "  Posteriormente, numa segunda fase, foi realizada uma Análise Temporal Empírica e uma Análise Espacial Assintótica dos algoritmos implementados, com as devidas conclusões. "
   ]
  },
  {
   "cell_type": "markdown",
   "id": "78688cf9",
   "metadata": {},
   "source": [
    "# Fase 1 | TAD Lista"
   ]
  },
  {
   "cell_type": "markdown",
   "id": "3d550728",
   "metadata": {},
   "source": [
    "<div class=\"alert alert-block alert-warning\">\n",
    "<b><h1>Lista Duplamente Ligada</h1></b>\n",
    "</div>"
   ]
  },
  {
   "cell_type": "code",
   "execution_count": null,
   "id": "637e24df",
   "metadata": {},
   "outputs": [],
   "source": [
    "class Node_to_DP:                    # Nó para ListaDL\n",
    "\n",
    "    def __init__(self, item):\n",
    "        self.__data = item\n",
    "        self.__prev = None\n",
    "        self.__next = None\n",
    "\n",
    "    @property\n",
    "    def data(self):\n",
    "        return self.__data\n",
    "\n",
    "    @property\n",
    "    def prev(self):\n",
    "        return self.__prev\n",
    "\n",
    "    @property\n",
    "    def next(self):\n",
    "        return self.__next\n",
    "\n",
    "    @data.setter\n",
    "    def data(self, new_data):\n",
    "        self.__data = new_data\n",
    "\n",
    "    @next.setter\n",
    "    def next(self, new_next):\n",
    "        self.__next = new_next\n",
    "\n",
    "    @prev.setter\n",
    "    def prev(self, new_prev):\n",
    "        self.__prev = new_prev"
   ]
  },
  {
   "cell_type": "markdown",
   "id": "fa914a74",
   "metadata": {},
   "source": [
    "## Nó\n",
    "    \n",
    "   O **Nó** é a base da lista ligada. Cada objeto do tipo `Node` deve conter, pelo menos, duas informações: o item da lista e uma referência para o nó seguinte. Adicionalmente, podemos acrescentar uma referência para o nó anterior. \n",
    "   \n",
    "   Relativamente à criação da **Lista Duplamente Ligada** (DL), começámos por criar uma classe para o **Nó** _(Node)_ **`class Node_to_DP`**, cujo construtor é constituído por 2 apontadores, tal como é característico deste tipo de lista dinâmica. Para o elemento anterior temos o apontador `prev`, sendo que para o elemento seguinte temos o apontador `next`. Além dos referidos, o construtor é constituído pelo item da lista que guarda o valor dos elementos(`data`).\n",
    "\n",
    "   Adicionalmente, elaborámos os _**getters**_ (`@properties`) e os _**setters**_ (` @***.setter`), de forma a que conseguíssemos obter e alterar os atributos."
   ]
  },
  {
   "cell_type": "markdown",
   "id": "4f234f83",
   "metadata": {},
   "source": [
    "---"
   ]
  },
  {
   "cell_type": "code",
   "execution_count": 1,
   "id": "35e3b0d6",
   "metadata": {},
   "outputs": [],
   "source": [
    "class ListaDL:  # ListaDL | Lista Duplamente Ligada\n",
    "    \n",
    "    # [Construtor]\n",
    "    def __init__(self):\n",
    "        self.__head = None\n",
    "        self.__tail = None\n",
    "        self.__size = 0\n",
    "        "
   ]
  },
  {
   "cell_type": "markdown",
   "id": "3f99804a",
   "metadata": {},
   "source": [
    "### _ _init _ _\n",
    "   \n",
    "   Inicialmente, quando construímos uma lista, não há itens. \n",
    "   \n",
    "   Deste modo, na criação da `classe ListaDL`, construimos 3 diferentes atributos: a `head`(cabeça) sendo este o atributo relativo ao início da lista; a `tail` (cauda), relativo ao fim da lista; e o `size`, que acumulará o tamanho da Lista.\n",
    "   \n",
    "   > **Complexidade Assintótica Espacial:** $O(1)$"
   ]
  },
  {
   "cell_type": "markdown",
   "id": "8b5e86b3",
   "metadata": {},
   "source": [
    "---"
   ]
  },
  {
   "cell_type": "code",
   "execution_count": 2,
   "id": "1cfde193",
   "metadata": {},
   "outputs": [],
   "source": [
    "    \n",
    "    # [1] -> Comprimento ou tamanho: quantos itens estão na lista – len()\n",
    "    def __len__(self):\n",
    "        return self.__size\n",
    "    "
   ]
  },
  {
   "cell_type": "markdown",
   "id": "027ba779",
   "metadata": {},
   "source": [
    "### _ _ len _ _\n",
    "\n",
    "   Uma vez que no construtor, criámos o atributo `size`, atribuindo-lhe o valor 0, e, posteriormente, utilizámos este atributo como um acumulador nas funções **`ins`** e **`rem`**, de modo que o seu valor altere sempre que estas funções são executadas. \n",
    "   \n",
    "   Assim, para verificar quantos itens estão na Lista apenas necessitámos de retornar o `self.__size` para que a função nos devolva o comprimento da lista.\n",
    "   "
   ]
  },
  {
   "cell_type": "markdown",
   "id": "71e9a5bc",
   "metadata": {},
   "source": [
    "***"
   ]
  },
  {
   "cell_type": "code",
   "execution_count": 3,
   "id": "6d2befa2",
   "metadata": {},
   "outputs": [],
   "source": [
    "    \n",
    "    # [2] -> Indicar se a lista está vazia – vazia()\n",
    "    def vazia(self):\n",
    "        return self.__size == 0\n",
    "        "
   ]
  },
  {
   "cell_type": "markdown",
   "id": "6f13fe35",
   "metadata": {},
   "source": [
    "### vazia() \n",
    "\n",
    "Para a função **`vazia()`**, uma vez que apenas necessitamos de verificar se a lista tem o comprimento igual a 0, retornámos `self.__size == 0` , onde é obtido `True` se a lista estiver vazia e `False`, caso contrário.\n",
    "\n",
    " Outra possibilidade seria verificar se `self.__head == None`, isto é, se a cabeça da lista seria `None`.\n",
    " "
   ]
  },
  {
   "cell_type": "markdown",
   "id": "9019d06c",
   "metadata": {},
   "source": [
    "---"
   ]
  },
  {
   "cell_type": "code",
   "execution_count": 4,
   "id": "c95641e7",
   "metadata": {},
   "outputs": [],
   "source": [
    "    \n",
    "    # [3] -> Esvaziar a lista – limpar()\n",
    "    def limpar(self):\n",
    "        self.__head = None\n",
    "        self.__tail = None\n",
    "        self.__size = 0\n",
    "    "
   ]
  },
  {
   "cell_type": "markdown",
   "id": "537aece8",
   "metadata": {},
   "source": [
    "### limpar()\n",
    "\n",
    "   Sendo o nosso objetivo esvaziar a lista, foi apenas necessário atribuirmos `None` aos apontadores **`head`** e **`tail`** o que eliminará todos os elementos.\n",
    "\n",
    "   Uma vez que eliminará todos os elementos, atribuímos o valor de `0` ao `self.__size`.\n",
    "   \n",
    " > **Complexidade Assintótica Espacial:** $O(1)$"
   ]
  },
  {
   "cell_type": "markdown",
   "id": "7537df20",
   "metadata": {},
   "source": [
    "---"
   ]
  },
  {
   "cell_type": "code",
   "execution_count": 5,
   "id": "22fe73f2",
   "metadata": {},
   "outputs": [],
   "source": [
    "    \n",
    "    # [4] -> Consultar (devolver) elemento na posição p – ver(p)\n",
    "    def ver(self, p):\n",
    "        if p > self.__size or self.vazia():\n",
    "            raise ValueError('Posição Inválido')\n",
    "        this = self.__head\n",
    "        iterador = 1\n",
    "        while iterador != p:\n",
    "            this = this.next\n",
    "            iterador += 1\n",
    "        return f'Posição {p} na Lista: {this.data}!!'\n",
    "    "
   ]
  },
  {
   "cell_type": "markdown",
   "id": "0fa65c53",
   "metadata": {},
   "source": [
    "\n",
    "### ver()\n",
    "\n",
    "   O método **`ver()`** pretende devolver o elemento na posição desejada. Primeiro começa por verificar se a lista está fazia `self.__vazia()`, ou se a posição inserida é superior ao número de elementos na lista, e em caso afirmativo devolve um **`Value Error`**. \n",
    "   \n",
    "   Posteriormente, começando com o apontador na cabeça `head`, enquanto a posição inserida for diferente do iterador o apontador vai avançando para o nó seguinte. Quando a posição inserida for igual ao iterador, este método devolve o elemento desse nó.\n",
    "\n",
    "> **Complexidade Assintótica Espacial:** $O(1)$\n"
   ]
  },
  {
   "cell_type": "markdown",
   "id": "6e1b00ed",
   "metadata": {},
   "source": [
    "---"
   ]
  },
  {
   "cell_type": "code",
   "execution_count": 6,
   "id": "fca5b81c",
   "metadata": {},
   "outputs": [],
   "source": [
    "\n",
    "    # [5] -> Inserir um dado item na lista - ins(item) -> inserção na cauda\n",
    "    def ins(self, item):\n",
    "        prev = None\n",
    "        this = self.__tail\n",
    "        while this != None:\n",
    "            prev = this\n",
    "            this = this.next\n",
    "        newNode = Node_to_DP(item)\n",
    "        if self.__head == None:\n",
    "            self.__head = newNode\n",
    "        else:\n",
    "            self.__tail.next = newNode\n",
    "            newNode.prev = prev\n",
    "        self.__tail = newNode\n",
    "        self.__size += 1\n",
    "        "
   ]
  },
  {
   "cell_type": "markdown",
   "id": "27aae6d5",
   "metadata": {},
   "source": [
    "# ins(item) | Inserir\n",
    "\n",
    "   No método **`ins`**, optámos por realizar uma implementação com inserção na cauda, no entanto existiam outras opções.\n",
    "\n",
    "   Na implementação realizada, primeiro criámos a variável `prev` que começará com `None`, e o apontador como sendo a cauda `self.__tail`.\n",
    "\n",
    "   Através do ciclo **`while`**, enquanto o apontador for diferente `!=` de `None`, este avança para o nó seguinte e o `prev` passa a ser o nó anterior.\n",
    "\n",
    "   De seguida, criámos o novo nó `newNode` e através do **`if`** verificámos se a cabeça `head` é `None`. Em caso afirmativo, o novo nó passa a ser a cabeça, e em caso negativo, o novo nó passa a ser posterior à cauda `tail`, pelo que o apontador seguinte à cauda é o novo nó `self.__tail.next = newNode` e o apontador anterior à cauda é o `prev` anteriormente obtido `newNode.prev = prev`.\n",
    "   \n",
    "   Por fim substituímos a cauda para o novo nó `self.__tail = newNode`, uma vez que a inserção ocorreu nessa extremidade, e adicionamos uma unidade ao comprimento da lista `self.__size += 1`.\n",
    "   \n",
    "   \n",
    "> **Complexidade Assintótica Espacial:** $O(1)$"
   ]
  },
  {
   "cell_type": "markdown",
   "id": "8b310b3d",
   "metadata": {},
   "source": [
    "---"
   ]
  },
  {
   "cell_type": "code",
   "execution_count": 7,
   "id": "40f691de",
   "metadata": {},
   "outputs": [],
   "source": [
    "    \n",
    "    # [6] -> Remover um determinado item da lista - rem(item)\n",
    "    def rem(self, item):\n",
    "        if self.vazia():\n",
    "            raise ValueError('Lista vazia')\n",
    "        this = self.__head\n",
    "        prev = None\n",
    "        found = False\n",
    "        while this != None and not found:\n",
    "            if this.data == item:\n",
    "                found = True\n",
    "            else:\n",
    "                prev = this\n",
    "                this = this.next\n",
    "        if found is True:\n",
    "            if self.__size > 1:\n",
    "                if prev == None:\n",
    "                    self.__head = this.next\n",
    "                    this.next.prev = None\n",
    "                elif this.next == None:\n",
    "                    prev.next = None\n",
    "                    self.__tail = prev\n",
    "                else:\n",
    "                    prev.next = this.next\n",
    "                    this.next.prev = this.prev\n",
    "                self.__size -= 1\n",
    "            else:\n",
    "                self.limpar()\n",
    "        return f\"** O item {item} foi eliminado da Lista! **\"\n",
    "    "
   ]
  },
  {
   "cell_type": "markdown",
   "id": "36be633f",
   "metadata": {},
   "source": [
    "# rem() | Remover\n",
    "\n",
    "   No método **`rem`** o objetivo é remover um dado item da lista.\n",
    "\n",
    "   Na implementação realizada, primeiro verificamos se lista está vazia e, em caso afirmativo, devolve um **`Value Error`**. \n",
    "   \n",
    "   Seguidamente, criámos a variável `prev` que começará com `None`; um apontador como sendo a cauda `self.__head`; e uma variável do tipo booleano `found` que ficará `True` se o elemento for encontrado.\n",
    "\n",
    "   Através do ciclo **`while`**, enquanto o apontador for diferente `!=` de `None` e o item não for encontrado `not found` , o apontador avança para o nó seguinte e o `prev` passa a ser o nó anterior, até que o item na lista seja encontrado ou a lista chegue ao fim (o que se verificará quando o `this.next` for `None`).\n",
    "   \n",
    "   De seguida, caso o item seja encontrado `if found is True`, e se o tamanho da lista for maior que 1, existem 3 opções distintas:"
   ]
  },
  {
   "cell_type": "markdown",
   "id": "a411390a",
   "metadata": {},
   "source": [
    "> **1)** O `prev == None`, ou seja, o elemento a eliminar fosse a cabeça `head`. Neste caso, a cabeça `head` passa a ser o apontador seguinte aquele que está o nó do elemento a eliminar e o nó onde estava esse item passará a ser `None`.\n",
    "  \n",
    "> **2)** O `this.next == None`, o que ocorre quando o elemento a eliminar é a cauda `tail`, pelo que o  apontador seguinte ao `prev` passará a ser `None` e o `prev` passará a ser a cauda `tail`.\n",
    "   \n",
    "> **3)** Caso não se verifique nenhuma das situações anteriores, o apontador seguinte ao `prev` passa a ser o apontador seguinte ao `this`, ou seja, ao nó do elemento a eliminar; e o apontador anterior ao nó seguinte daquele que está contido o item `this.next.prev` passa a ser o apontador anterior ao nó do item `this.prev`.\n",
    "   \n",
    "- Depois de removido o nó do item, o tamanho da lista diminui uma unidade `self.__size -= 1` "
   ]
  },
  {
   "cell_type": "markdown",
   "id": "28550439",
   "metadata": {},
   "source": [
    "Caso a lista tenha apenas um elemento, ou seja o `self.__size > 1` não se verifique, e o elemento a eliminar já tenha sido encontrado na lista `if found is True`, então usamos o método que esvazia a lista `self.limpar()`.\n",
    "\n",
    "Todavia, se o elemento a eliminar (`item`) não for encontrado, o método devolve uma mensagem com essa informação.\n",
    "   \n",
    "  \n",
    "\n",
    "> **Complexidade Assintótica Espacial:** $O(1)$"
   ]
  },
  {
   "cell_type": "markdown",
   "id": "15441c53",
   "metadata": {},
   "source": [
    "---"
   ]
  },
  {
   "cell_type": "code",
   "execution_count": 8,
   "id": "cdb89825",
   "metadata": {},
   "outputs": [],
   "source": [
    "    \n",
    "    # [7] -> Mostrar o conteúdo completo da lista – mostrar()\n",
    "    def mostrar(self):  # _ _ str _ _\n",
    "        values = ''\n",
    "        pointer = self.__head\n",
    "        while pointer is not None:\n",
    "            values += '{0} '.format(pointer.data)\n",
    "            pointer = pointer.next\n",
    "        if self.__head == None:\n",
    "            return f'\\nListaDL: [{values}] \\n Head: {None} \\n Tail: {None} \\n Size: {self.__size}\\n'\n",
    "        return f'\\nListaDL: [{values}] \\n Head: {self.__head.data} \\n Tail: {self.__tail.data} \\n Size: {self.__size}\\n'\n",
    "    "
   ]
  },
  {
   "cell_type": "markdown",
   "id": "18a35bc7",
   "metadata": {},
   "source": [
    "## mostrar()\n",
    "\n",
    "Para a função **`mostrar()`**, temos como objetivo devolver todos os elementos como lista. \n",
    "\n",
    "Para isso definimos a opção de a lista estar vazia, ou seja, se `self.__head == 0`, através do **`if`**. Neste caso devolveremos uma lista vazia, com o valor de `None` na `head` e na `tail`, e com o valor do `size` ( que será 0).\n",
    "\n",
    "Para o caso de a lista possuir elementos, começámos por ter o apontador na `head`. Posteriormente, utilizámos um **`while`** para controlar quantas vezes fazemos a leitura dos elementos, restringindo-o quando o apontador for `None`, ou seja, quando a lista terminar. Dentro do ciclo **`while`** fomos acrescentando à _string_ `values` cada um dos valores dos elementos e alterando o apontador para o elemento seguinte `pointer.next`. Por fim, retornamos a lista com todos os elementos, indicando a **`Head`**, a **`Tail`** e o **`Size`**.\n",
    "\n",
    "> **Complexidade Assintótica Espacial:** $O(1)$"
   ]
  },
  {
   "cell_type": "markdown",
   "id": "2e4435e1",
   "metadata": {},
   "source": [
    "---"
   ]
  },
  {
   "cell_type": "code",
   "execution_count": null,
   "id": "4ccd48ec",
   "metadata": {},
   "outputs": [],
   "source": [
    "    \n",
    "    #[8] -> Indicar se existe na lista um item com um dado valor – existe(item)\n",
    "    def existe(self, item):\n",
    "        b = self.copiar()\n",
    "        b.ordenar(\"m\")\n",
    "        n = b.__size\n",
    "        L = 0\n",
    "        R = n - 1\n",
    "        i = 0\n",
    "        mid_node = b.__head\n",
    "        while L <= R:\n",
    "            mid_index = (L + R) // 2\n",
    "            while i != mid_index:\n",
    "                mid_node = mid_node.next\n",
    "                i += 1\n",
    "            if mid_node.data < item:\n",
    "                L = mid_index + 1\n",
    "            elif mid_node.data > item:\n",
    "                R = mid_index - 1\n",
    "            else:\n",
    "                this = self.__head\n",
    "                i_posicao = 1\n",
    "                while i_posicao - 1 < self.__size:\n",
    "                    if this.data == item:\n",
    "                        print(f'O elemento {item} está na posição {i_posicao}!')\n",
    "                    this = this.next\n",
    "                    i_posicao += 1\n",
    "                break\n",
    "            i = 0\n",
    "            mid_node = b.__head\n",
    "        return 0\n",
    "    "
   ]
  },
  {
   "cell_type": "markdown",
   "id": "eca995f5",
   "metadata": {},
   "source": [
    "## existe()\n",
    "\n",
    "O algoritmo de **Pesquisa Binária** _(Binary Search)_ segue o paradigma de **Dividir para Conquistar** _(Divide-and-Conquer)_.\n",
    "\n",
    "Neste algoritmo partimos de uma lista ordenada, pelo que numa fase inicial criámos uma nova lista através do método extra `b = self.copiar()`, e ordenamos essa nova lista `b.ordenar(\"m\")`.\n",
    "\n",
    "Com a lista já ordenada, sendo o objetivo do algoritmos realizar sucessivas divisões de procura e ir comparando o elemento a encontrar com o elemento no meio do vetor `mid_node`.\n",
    "\n",
    "Até que `L <= R` ele procura o elemento. Se o elemento do meio for menor do que item que estamos à procura `        if mid_node.data < item:` , então a busca continua na metade anterior da lista. Por oposição, se o elemento do meio for maior do que item que estamos à procura `if mid_node.data > item:` , então a busca continua na metade posterior da lista.\n",
    "\n",
    "Neste processo, de modo a facilitar a procura, uma vez que a lista usada é constituída por nós, decidimos criar o **`mid_index`** que apenas auxilia na divisão, uma vez que usa o índice dos nós para dividir a lista em metades. Deste modo, criámos as variáveis `L = 0`e `R = n - 1`, sendo `n = b.__size` e sempre que o elemento do meio for menor ou maior o `L` ou o `R` mudam , respetivamente.\n",
    "\n",
    "Assim, enquanto o `i` for diferente do índice do meio `while i != mid_index:` o nó do meio avança para o nó seguinte `mid_node = mid_node.next`.\n",
    "\n",
    "Se o elemento do meio do vetor for aquele que estamos à procura, a busca termina e inicia uma pesquisa sequencial pelo índice do nó que estamos à procura, uma vez que foi o solicitado. Para tal, começando com o apontador na cabeça `this = self.__head`, até que o iterador chegue ao último elemento `while i_posicao - 1 < self.__size:`, sempre que encontrar um nó com o elemento igual aquele que está a ser procurado `if this.data == item:` dá print da posição em que ele se encontra. Com esta implementação, está salvaguardado o caso em que o elemento que está a ser procurado se repita em diferentes posições da lista.\n",
    "\n",
    "Por último, uma vez que o solicitado é \"_devolver 0 (zero) se o item procurado não existir ou i se o item foi encontrado na i-ésima posição e usar uma pesquisa sequencial_\", quando o ciclo **`while`** relativo ao `L` e `R` acabar, significa que a função não conseguiu encontrar nenhum elemento, pelo que retorna 0 `return 0`.\n",
    "\n",
    "**Nota:** Caso no `else` a função apenas retornasse `True` se encontrasse o item, a complexidade temporal do algoritmo seria apenas $O(nlogn)$, uma vez que usamos a **pesquisa binária**, porém como o solitado era indicar, se existir, em que posição o elemento se encontra, então tivemos de fazer um ciclo **`while`**, fazendo assim uma **pesquisa sequencial**, tal como referido anteriormente, pelo que, no pior dos casos, terá de percorrer a lista toda, alterando assim dastricamente a complexidade do algoritmo, passando a $O(n)$.\n",
    "\n",
    "\n",
    "> **Complexidade Assintótica Espacial:** $O(n)$"
   ]
  },
  {
   "cell_type": "markdown",
   "id": "bc6a8adc",
   "metadata": {},
   "source": [
    "---"
   ]
  },
  {
   "cell_type": "code",
   "execution_count": 9,
   "id": "77bb4b72",
   "metadata": {},
   "outputs": [],
   "source": [
    "    \n",
    "    # [EXTRA] - Algoritmo MergeSort - Dividir\n",
    "    @staticmethod\n",
    "    def dividir(tempHead):  # tempHead -> Cabeça temporária\n",
    "        fast = slow = tempHead\n",
    "        while True:\n",
    "            if fast.next is None:\n",
    "                break\n",
    "            if fast.next.next is None:\n",
    "                break\n",
    "            fast = fast.next.next\n",
    "            slow = slow.next\n",
    "        temp = slow.next\n",
    "        slow.next = None\n",
    "        return temp\n",
    "\n",
    "    # [EXTRA] - Algoritmo MergeSort - Merge\n",
    "    def merge(self, first, second):\n",
    "        if first is None:\n",
    "            return second\n",
    "        if second is None:\n",
    "            return first\n",
    "        if first.data < second.data:\n",
    "            first.next = self.merge(first.next, second)\n",
    "            first.next.prev = first\n",
    "            first.prev = None\n",
    "            return first\n",
    "        else:\n",
    "            second.next = self.merge(first, second.next)\n",
    "            second.next.prev = second\n",
    "            second.prev = None\n",
    "            return second\n",
    "\n",
    "    # [EXTRA] - Algoritmo MergeSort\n",
    "    def mergeSort(self, tempHead):\n",
    "        if tempHead is None:\n",
    "            return tempHead\n",
    "        if tempHead.next is None:\n",
    "            return tempHead\n",
    "        second = self.dividir(tempHead)\n",
    "        tempHead = self.mergeSort(tempHead)\n",
    "        second = self.mergeSort(second)\n",
    "        return self.merge(tempHead, second)\n"
   ]
  },
  {
   "cell_type": "markdown",
   "id": "0a67aaa2",
   "metadata": {},
   "source": [
    "### dividir( ) | merge( ) | mergeSort( )\n",
    "[EXTRA]\n",
    "\n",
    "   De modo a pudermos ordenar a lista dinâmica com o algoritmo de **MergeSort** criámos os métodos auxiliares **`dividir()`**,  **`merge()`** e **`mergeSort()`**.\n",
    "\n",
    "   O **Merge Sort** é um algoritmo de ordenação que usa a estratégia **Dividir para Conquistar** _(Divide-and-Conquer)_.\n",
    "   \n",
    "   Resumidamente, aquilo que fazemos é: dividir a nossa lista em várias partes, ordenar de forma crescente todas essas partes e por fim voltar a juntá-las.\n",
    "   \n",
    "   Seguindo esta idealização, criámos o método **`dividir( )`** que ao usar duas variáveis que começam na cabeça `head` das listas a dividir, sendo que uma avança `fast.next` e `fast.next.next` mais rápido do que a outra, permitindo dividir a lista dinâmica em duas.\n",
    "   \n",
    "   Seguidamente, através do método auxiliar **`merge`**, juntamos duas listas dinâmicas.\n",
    "   \n",
    "   Sucintamente, o nosso objetivo é escolha o menor dos valor, de modo a começar a ordenação. Uma vez que o método auxiliar **`merge`** apresenta recursividade, pelo que escolherá o menor dos valores entre duas listas que sejam dadas como _input_.\n",
    "   \n",
    "   Por fim, através do método **`mergeSort`** que junta os processos de divisão e junção num método, realizamos a divisão da lista a ordenar e juntamos os diferentes nós já ordenados."
   ]
  },
  {
   "cell_type": "code",
   "execution_count": 10,
   "id": "820f239d",
   "metadata": {},
   "outputs": [],
   "source": [
    "\n",
    "    # [9] -> Ordenar a lista – ordenar()\n",
    "    # Um parâmetro que indica qual a ordenação a usar (por exemplo: b indica bubblesort e q indica quicksort)\n",
    "    def ordenar(self, arg = 'm'):\n",
    "        if arg == 'b':\n",
    "            if self.__size == 0:\n",
    "                raise ValueError('Lista vazia')\n",
    "            if self.__size == 1:\n",
    "                return\n",
    "            k = 0\n",
    "            comp = self.__size\n",
    "            this = self.__head\n",
    "            while k < comp:\n",
    "                for c in range(comp - 1):\n",
    "                    if this.data > this.next.data:\n",
    "                        this.data, this.next.data = this.next.data, this.data\n",
    "                    this = this.next\n",
    "                this = self.__head\n",
    "                comp -= 1\n",
    "                k += 1\n",
    "        elif arg == 'm':\n",
    "            if self.__size == 0:\n",
    "                raise ValueError('Lista vazia')\n",
    "            if self.__size == 1:\n",
    "                return self.mostrar()\n",
    "            self.__head = self.mergeSort(self.__head)\n",
    "            prev = None\n",
    "            this = self.__head\n",
    "            while this != None:\n",
    "                prev = this\n",
    "                this = this.next\n",
    "            self.__tail = prev\n"
   ]
  },
  {
   "cell_type": "markdown",
   "id": "c0faf799",
   "metadata": {},
   "source": [
    "## ordenar( ) | BubbleSort e MergeSort\n",
    "\n",
    "Para o método de ordenação **`ordenar(arg)`** foi solicitado que implementássemos 2 algoritmos de ordenação (1 de cada 1 dos pares de algoritmos dados a escolher no enunciado) entre os lecionados em aula. \n",
    "\n",
    "De entre as opções, optámos pelo **BubbleSort**, cujo `arg` fornecido tem de ser `'b'`, e pelo **MergeSort**, cujo `arg` fornecido tem de ser `'m'`.\n",
    "\n",
    "Caso o argumento não seja fornecido, usámos uma inicialização por omissão na declaração do método para o ordenamento que considerámos mais eficiente, ou seja, o **MergeSort** [`'m'`].\n",
    "\n",
    "### Bubble Sort ['b']\n",
    "\n",
    "   O algoritmo de ordenação **BubbleSort** baseia-se na estratégia **Incremental**.\n",
    "   \n",
    "   Sucintamente, no algoritmo de ordenação **BubbleSort** iteramos uma lista várias vezes e trocamos os seus elementos um a um, até que todos estejam em ordem crescente. \n",
    "\n",
    "   Mais especificamente, quando iteramos a lista, verificamos elemento a elemento se o elemento seguinte é maior do que o próprio. Neste caso, fazemos uma troca entre si de modo a que fiquem ordenados de forma crescente.\n",
    "\n",
    "   Depois de percorrer toda a lista pela primeira vez, verificamos se foi necessário fazer trocas ou não. Caso tenha sido necessário fazer alguma troca, precisamos de percorrer toda a lista novamente para garantir que tudo esteja ordenado. Se algum elemento ainda não estiver ordenado, realizamos as trocas novamente e repetimos todo o processo até que a lista esteja completamente ordenada e não sejam necessárias mais trocas.\n",
    "   \n",
    "   É ainda importante salientar que para fazer as trocas dos elementos, não precisamos de memória extra para executar o algoritmo.\n",
    "   \n",
    "   Na implementação da **Lista Duplamente Ligada** (DL) respeitámos exatamente esse ideia, e realizamos as trocas de valores entre nós `this.data, this.next.data = this.next.data, this.data` sempre o elemento posterior tivesse um valor maior do que o anterior `if this.data > this.next.data:`. \n",
    "   \n",
    "### MergeSort ['m']\n",
    "\n",
    "   Já o **Merge Sort** usa a estratégia **Dividir para Conquistar** _(Divide-and-Conquer)_, tal como já referido.\n",
    "   \n",
    "   Isto é, primeiramente, dividimos a lista ao meio, comparamos cada uma das metades, e juntamo-las. Em cada uma das partes dividimos essas listas em metade e repetimos este processo até que toda a lista passe a estar ordenada, ou seja, até encontrarmos uma lista com o mesmo tamanho da lista original no entanto ordenada. \n",
    "   \n",
    "   Para realizar este processo, utilizamos os métodos auxiliares já referenciados. Assim, e através da recursividade ordenamos a lista desde a cabeça `head` e, por fim, alteramos a cauda `tail` para o nó que se encontrar na última posição da lista já ordenada.\n",
    "   \n",
    "   Considerámos desde logo, as situações de a lista estar vazia, `if self.__size == 0`, o que retorna um **`ValueError`**; e de a lista conter apenas 1 elemento `self.__size == 1`, pelo que não necessita de ser ordenada.\n"
   ]
  },
  {
   "cell_type": "markdown",
   "id": "ba4095ff",
   "metadata": {},
   "source": [
    "> **Complexidade Assintótica Espacial:** $O(1)$"
   ]
  },
  {
   "cell_type": "markdown",
   "id": "6ddddceb",
   "metadata": {},
   "source": [
    "---"
   ]
  },
  {
   "cell_type": "code",
   "execution_count": null,
   "id": "6dcdb440",
   "metadata": {},
   "outputs": [],
   "source": [
    "    \n",
    "    # [EXTRA] - Retorna uma cópia da ListaDL\n",
    "    def copiar(self):\n",
    "        a = ListaDL()\n",
    "        copia = [None] * self.__size\n",
    "        this = self.__head\n",
    "        i = 0\n",
    "        while i < self.__size:\n",
    "            copia[i] = this.data\n",
    "            this = this.next\n",
    "            i += 1\n",
    "        for i in copia:\n",
    "            a.ins(i)\n",
    "        return a\n",
    "    "
   ]
  },
  {
   "cell_type": "markdown",
   "id": "659292f3",
   "metadata": {},
   "source": [
    "## copiar() \n",
    "[EXTRA]\n",
    "\n",
    "O método **`copiar()`** tem o objetivo de criar uma nova lista dinâmica com os mesmo elementos da original, de modo a que nos métodos como o **`existe()`**, a ordenação ocorra na lista copiada e não na original, para que a lista original se mantenha com a ordenação que estava.\n",
    "\n",
    "Assim, na implementação deste método, criámos uma lista do tipo **`list`** e copiámos todos os elementos da lista dinâmica para essa lista. Por fim, voltámos a inserir os elementos numa nova lista dinâmica.\n",
    "\n",
    "Devido à necessidade de criar uma lista do tipo `list`, a complexidade espacial é maior do que os aquela que se verifica nos restantes métodos da **TAD Lista**.\n",
    "\n",
    "\n",
    "> **Complexidade Assintótica Espacial:** $O(n)$\n"
   ]
  },
  {
   "cell_type": "markdown",
   "id": "c09b1610",
   "metadata": {},
   "source": [
    "---"
   ]
  },
  {
   "cell_type": "markdown",
   "id": "13116ab9",
   "metadata": {},
   "source": [
    "<div class=\"alert alert-block alert-info\">\n",
    "<b><h1>Lista Circular</h1></b>\n",
    "</div>"
   ]
  },
  {
   "cell_type": "code",
   "execution_count": null,
   "id": "c76e800b",
   "metadata": {},
   "outputs": [],
   "source": [
    "class Node:                   # Nó da ListaSL Circular\n",
    "\n",
    "    def __init__(self, item):\n",
    "        self.__data = item\n",
    "        self.__next = None\n",
    "\n",
    "    @property\n",
    "    def data(self):\n",
    "        return self.__data\n",
    "\n",
    "    @property\n",
    "    def next(self):\n",
    "        return self.__next\n",
    "\n",
    "    @data.setter\n",
    "    def data(self, new_data):\n",
    "        self.__data = new_data\n",
    "\n",
    "    @next.setter\n",
    "    def next(self, new_next):\n",
    "        self.__next = new_next"
   ]
  },
  {
   "cell_type": "markdown",
   "id": "cd8d136e",
   "metadata": {},
   "source": [
    "## Nó\n",
    "    \n",
    "   Relativamente à criação da **Lista Circular Simplesmente Ligada**, começámos por criar uma classe para o **Nó** _(Node)_ **`class Node`**. Sendo esta Lista Simplesmente Ligada o construtor é constituído apenas por 1 apontador, sendo este para o elemento seguinte `next`. Adicionalmente, é constituído ainda pelo item da lista que guarda o valor dos elementos `data`.\n",
    "\n",
    "   Elaborámos ainda os _**getters**_ (`@properties`) e os _**setters**_ (` @****.setter`), de forma a que conseguíssemos obter e alterar os atributos."
   ]
  },
  {
   "cell_type": "markdown",
   "id": "c311007e",
   "metadata": {},
   "source": [
    "---"
   ]
  },
  {
   "cell_type": "code",
   "execution_count": null,
   "id": "e39b9737",
   "metadata": {},
   "outputs": [],
   "source": [
    "\n",
    "class ListaCircular:\n",
    "\n",
    "    def __init__(self):\n",
    "        self.__head = None\n",
    "        self.__tail = None\n",
    "        self.__size = 0\n",
    "\n",
    "    # [1] -> Comprimento ou tamanho: quantos itens estão na lista – len()\n",
    "    def __len__(self):\n",
    "        return self.__size\n",
    "\n",
    "    # [2] -> Indicar se a lista está vazia – vazia()\n",
    "    def vazia(self):\n",
    "        return self.__size == 0\n",
    "\n",
    "    # [3] -> Esvaziar a lista – limpar()\n",
    "    def limpar(self):\n",
    "        self.__head = None\n",
    "        self.__size = 0\n",
    "    \n",
    "    # [4] -> Consultar (devolver) elemento na posição p – ver(p)\n",
    "    def ver(self, p):\n",
    "        if p > self.__size or self.vazia():\n",
    "            raise ValueError('Posição Inválido')\n",
    "        this = self.__head\n",
    "        iterador = 1\n",
    "        while iterador != p:\n",
    "            this = this.next\n",
    "            iterador += 1\n",
    "        return f'Posição {p} na Lista: {this.data}!'\n"
   ]
  },
  {
   "cell_type": "markdown",
   "id": "bea5ba11",
   "metadata": {},
   "source": [
    "## _ _ init _ _    |    _ _ len _ _    |     vazia( )    |     limpar( )    |    ver( )\n",
    "\n",
    "Uma vez que a única diferença estrutural entre a **Lista Duplamente Ligada** (DL) e **Lista Circular Simplesmente Ligada** incide sobre a inexistência de apontador que referencia o elemento anterior `prev` na lista circular, os métodos desenvolvidos para o construtor `__init__`, `__len__`**[1]**, `vazia()`**[2]**, `limpar()`**[3]** e `ver`**[4]** são iguais à implementação da **Lista DL** anteriormente descrita, uma vez que a **Lista Circular** continua a ter uma cabeça `self.__head` e uma cauda `self.__tail`, e os métodos implementados não usam a característica de circularidade, isto é, não influencia nas implementações referidas o facto de a cauda `tail` apontar para a cabeça `head`.\n",
    "\n",
    "> **Complexidade Assintótica Espacial:** $O(1)$"
   ]
  },
  {
   "cell_type": "markdown",
   "id": "d20d133c",
   "metadata": {},
   "source": [
    "---"
   ]
  },
  {
   "cell_type": "code",
   "execution_count": null,
   "id": "0cc97058",
   "metadata": {},
   "outputs": [],
   "source": [
    "\n",
    "    # [5] -> Inserir um dado item na lista - ins(item) -> inserção no **fim**\n",
    "    def ins(self, item):\n",
    "        newNode = Node(item)\n",
    "        if self.__head == None:\n",
    "            self.__head = newNode\n",
    "        else:\n",
    "            self.__tail.next = newNode\n",
    "        self.__tail = newNode\n",
    "        self.__tail.next = self.__head\n",
    "        self.__size += 1\n",
    "    "
   ]
  },
  {
   "cell_type": "markdown",
   "id": "0622beb4",
   "metadata": {},
   "source": [
    "# ins() | Inserir\n",
    "\n",
    "   Uma vez mais, optámos por fazer a inserção na cauda `tail`.\n",
    "   \n",
    "   Devido à simplicidade da lista, o inserir **`ins()`** apenas necessita de criar os apontadores seguintes, pelo que criámos uma variável `newnode` com um objeto do tipo `Node`, cuja a `data` é o item que o foi dado como argumento. \n",
    "   \n",
    "   Se a lista estiver vazia `self.__head == None`, então atribuímos à cabeça `head` o novo nó `newNode`. Caso contrário, atribuímos o novo nó `newnode` ao `self.tail.next` de modo a adicionar o item ao fim da lista, ou seja, à cauda `tail`. \n",
    "   \n",
    "   Em ambos os casos, o novo nó `newNode` passa a ser o `self.__tail`, e para que a lista adquira a característica de **circular** a `self.__tail` passa a ser a `self.tail.next`, permitindo  assim que o apontador seguinte à cauda seja a cabeça. \n",
    "   \n",
    "   Por fim, o tamanho da lista acumula uma unidade `self__size += 1`. \n",
    "   \n",
    "> **Complexidade Assintótica Espacial:** $O(1)$\n"
   ]
  },
  {
   "cell_type": "markdown",
   "id": "8df500bd",
   "metadata": {},
   "source": [
    "---"
   ]
  },
  {
   "cell_type": "code",
   "execution_count": null,
   "id": "b226f174",
   "metadata": {},
   "outputs": [],
   "source": [
    "    \n",
    "    # [6] -> Remover um determinado item da lista - rem(item)\n",
    "    def rem(self, item):\n",
    "        if self.vazia():\n",
    "            raise ValueError('Lista vazia')\n",
    "        this = self.__head\n",
    "        prev = None\n",
    "        i = 0\n",
    "        if self.__size > 1:\n",
    "            while i < self.__size:\n",
    "                if this.data == item:\n",
    "                    if this == self.__head:  # Remover na cabeça\n",
    "                        self.__tail.next = this.next\n",
    "                        self.__head = this.next\n",
    "                        self.__size -= 1\n",
    "                        break\n",
    "                    elif this == self.__tail:  # Remover na cauda\n",
    "                        prev.next = self.__head\n",
    "                        self.__tail = prev\n",
    "                        self.__size -= 1\n",
    "                        break\n",
    "                    else:\n",
    "                        prev.next = this.next  # Outros Casos\n",
    "                        self.__size -= 1\n",
    "                        break\n",
    "                prev = this\n",
    "                this = this.next\n",
    "                i += 1\n",
    "        elif this.data == item:\n",
    "            self.limpar()\n",
    "        return        "
   ]
  },
  {
   "cell_type": "markdown",
   "id": "5915cf7b",
   "metadata": {},
   "source": [
    "## rem() | Remover\n",
    "\n",
    "   Uma vez mais, no método **`rem()`** o objetivo é remover um dado item da lista.\n",
    "    \n",
    "   Na implementação realizada, seguimos o mesmo raciocínio já descrito no **remover()** da **ListaDL**, diferindo no facto de não haver apontadores anteriores `prev`. \n",
    "   \n",
    "   Assim, primeiro verificámos se lista está vazia e, em caso afirmativo, devolve um **`Value Error`**. \n",
    "   \n",
    "   Seguidamente, criámos a variável `prev` que começará com `None`; um apontador como sendo a cauda `self.__head`; e um iterador `i` para o ciclo **`while`**.\n",
    "   \n",
    "   De seguida verificamos se a lista tem um comprimento maior do que 1 `if self.__size > 1` e, até o iterador `i` acabar de percorrer a lista, vai procurando pelo item a eliminar. Caso o encontra, segue-se 3 caminhos distintos:\n",
    "      \n",
    "   > **1)** Se o item a eliminar for a cabeça `this == self.__head`, então o apontador seguinte à cauda `tail`passa a ser o apontador seguinte da cabeça `self.__tail.next = this.next`; e a cabeça `head` passa a ser o o nó seguinte `self.__head = this.next`.\n",
    "  \n",
    "   > **2)** Se o item a eliminar for a cauda `this == self.__tail`, então o apontador anterior à cauda `tail`passa a ser o apontador da cabeça `prev.next = self.__head`; e a cauda `tail` passa a ser o o nó anterior `self.__tail = prev`.\n",
    "   \n",
    "   > **3)** Caso não se verifique nenhuma das situações anteriores, o apontador seguinte ao `prev` passa a ser o apontador seguinte ao `this`, ou seja ao nó do elemento a eliminar.\n",
    "   \n",
    "- Depois de removido o nó do item, em qualquer uma das situações possíveis, o tamanho da lista diminui uma unidade `self.__size -= 1` \n",
    "\n",
    "Caso a lista tenha apenas um elemento, ou seja, o `self.__size > 1` não se verifique, e o elemento a eliminar for encontrado na lista `this.data == item`, então usamos o método que esvazia a lista `self.limpar()`.\n",
    "\n",
    "Todavia, se o elemento a eliminar (`item`) não for encontrado, o método acaba.\n",
    "   \n",
    "  \n",
    "\n",
    "> **Complexidade Assintótica Espacial:** $O(1)$"
   ]
  },
  {
   "cell_type": "markdown",
   "id": "45842c13",
   "metadata": {},
   "source": [
    "---"
   ]
  },
  {
   "cell_type": "code",
   "execution_count": null,
   "id": "33c8aee9",
   "metadata": {},
   "outputs": [],
   "source": [
    "    \n",
    "    # [7] -> Mostrar o conteúdo completo da lista – mostrar()\n",
    "    def mostrar(self):  # __str__\n",
    "        values = ''\n",
    "        pointer = self.__head\n",
    "        i = 1\n",
    "        while i <= self.__size:\n",
    "            values += '{0} '.format(pointer.data)\n",
    "            pointer = pointer.next\n",
    "            i += 1\n",
    "        if self.__head == None:\n",
    "            return f'\\nListaSL Circular: [{values}] \\n Head: {None} \\n Tail: {None} \\n Size: {self.__size}\\n'\n",
    "        return f'\\nListaSL Circular: [{values}] \\n Head: {self.__head.data} \\n Tail: {self.__tail.data} \\n Size: {self.__size}\\n'\n"
   ]
  },
  {
   "cell_type": "markdown",
   "id": "cce62459",
   "metadata": {},
   "source": [
    "## mostrar()\n",
    "\n",
    "   A função **`mostrar()`** é semelhante em ambas as listas. \n",
    "   \n",
    "   A diferença centra-se na restrição do `while` que na **Lista Duplamente Ligada** é garantido que o `pointer` é diferente de `None` quando o `pointer.next` alcançar a cauda `tail`. Situação esta que não ocorrerá na  **Lista Circular**, uma vez que, sendo o apontador seguinte à cauda `self.__tail.next` a cabeça `self.__head`,  o apontador que percorre a lista `pointer` nunca assume o valor `None`, então, na implementação do **`mostrar`** da **Lista Circular** restringimos o ciclo `while` através do tamanho.\n",
    "   \n",
    "   > **Complexidade Assintótica Espacial:** $O(1)$"
   ]
  },
  {
   "cell_type": "markdown",
   "id": "cd1afcec",
   "metadata": {},
   "source": [
    "---"
   ]
  },
  {
   "cell_type": "code",
   "execution_count": null,
   "id": "3985222d",
   "metadata": {},
   "outputs": [],
   "source": [
    "    \n",
    "    # [8] -> Indicar se existe na lista um item com um dado valor – existe(item)\n",
    "    def existe(self, item):\n",
    "        b = self.copiar()\n",
    "        b.ordenar(\"m\")\n",
    "        n = b.__size\n",
    "        L = 0\n",
    "        R = n - 1\n",
    "        i = 0\n",
    "        mid_node = b.__head\n",
    "        while L <= R:\n",
    "            mid_index = (L + R) // 2\n",
    "            while i != mid_index:\n",
    "                mid_node = mid_node.next\n",
    "                i += 1\n",
    "            if mid_node.data < item:\n",
    "                L = mid_index + 1\n",
    "            elif mid_node.data > item:\n",
    "                R = mid_index - 1\n",
    "            else:\n",
    "                this = self.__head\n",
    "                i_posicao = 1\n",
    "                while i_posicao - 1 < self.__size:\n",
    "                    if this.data == item:\n",
    "                        print(f'O elemento {item} está na posição {i_posicao}!')\n",
    "                    this = this.next\n",
    "                    i_posicao += 1\n",
    "                return f\"\"\n",
    "            i = 0\n",
    "            mid_node = b.__head\n",
    "        return 0\n",
    "    "
   ]
  },
  {
   "cell_type": "markdown",
   "id": "578c9837",
   "metadata": {},
   "source": [
    "# existe() \n",
    "\n",
    "   No que diz respeito ao método **`existe()`**, é visível tal como já referido nos métodos 1 a 4, que devido ao facto de as implementações realizadas não usarem a característica de circularidade e não necessitarem do apontador que referencia o anterior (característico das **Listas Duplamente Ligadas**), a implementação não tem qualquer alteração, funcionando eficazmente no objetivo solicitado.\n",
    "\n",
    "   \n",
    "> **Complexidade Assintótica Espacial:** $O(n)$"
   ]
  },
  {
   "cell_type": "markdown",
   "id": "01b86f48",
   "metadata": {},
   "source": [
    "---"
   ]
  },
  {
   "cell_type": "code",
   "execution_count": null,
   "id": "675dc681",
   "metadata": {},
   "outputs": [],
   "source": [
    "    \n",
    "    # [EXTRA] - Algoritmo MergeSort - Dividir\n",
    "    @staticmethod\n",
    "    def dividir(tempHead):  # tempHead -> Cabeça temporária\n",
    "        fast = slow = tempHead\n",
    "        while True:\n",
    "            if fast.next is None:\n",
    "                break\n",
    "            if fast.next.next is None:\n",
    "                break\n",
    "            fast = fast.next.next\n",
    "            slow = slow.next\n",
    "        temp = slow.next\n",
    "        slow.next = None\n",
    "        return temp\n",
    "\n",
    "    # [EXTRA] - Algoritmo MergeSort - Merge\n",
    "    def merge(self, first, second):\n",
    "        if first is None:\n",
    "            return second\n",
    "        if second is None:\n",
    "            return first\n",
    "        if first.data < second.data:\n",
    "            first.next = self.merge(first.next, second)\n",
    "            first.next.prev = first\n",
    "            first.prev = None\n",
    "            return first\n",
    "        else:\n",
    "            second.next = self.merge(first, second.next)\n",
    "            second.next.prev = second\n",
    "            second.prev = None\n",
    "            return second\n",
    "\n",
    "    # [EXTRA] - Algoritmo MergeSort\n",
    "    def mergeSort(self, tempHead):\n",
    "        if tempHead is None:\n",
    "            return tempHead\n",
    "        if tempHead.next is None:\n",
    "            return tempHead\n",
    "        second = self.dividir(tempHead)\n",
    "        tempHead = self.mergeSort(tempHead)\n",
    "        second = self.mergeSort(second)\n",
    "        return self.merge(tempHead, second)\n"
   ]
  },
  {
   "cell_type": "markdown",
   "id": "c851a4cb",
   "metadata": {},
   "source": [
    "### dividir( ) | merge( ) | mergeSort( )\n",
    "[EXTRA]\n",
    "\n",
    "   De modo a pudermos ordenar a lista dinâmica com o algoritmo de **MergeSort** criámos, uma vez mais, os métodos auxiliares **`dividir( )`**,  **`merge()`** e **`mergeSort()`**.\n",
    "\n",
    "Estes métodos têm a mesma implementação usada na **Lista DL**, pois no método ordenar descrito a seguir optámos por realizar um corte entre a cabeça `head` e a cauda `tail` de modo a não viabilizar a utilização destes métodos anteriormente criados.\n",
    "\n",
    "> **Complexidade Assintótica Espacial:** $O(1)$ "
   ]
  },
  {
   "cell_type": "code",
   "execution_count": null,
   "id": "587e74bd",
   "metadata": {},
   "outputs": [],
   "source": [
    "\n",
    "    # [9] -> Ordenar a lista – ordenar()\n",
    "    # Um parâmetro que indica qual a ordenação a usar (por exemplo: 'b' indica Bubblesort e 'q' indica Quicksort)\n",
    "    def ordenar(self, arg = 'm'):\n",
    "    if arg == 'b':\n",
    "        k = 0\n",
    "        comp = self.__size\n",
    "        this = self.__head\n",
    "        while k <= comp * 2:\n",
    "            for c in range(comp):\n",
    "                if this.data > this.next.data:\n",
    "                    this.data, this.next.data = this.next.data, this.data\n",
    "                this = this.next\n",
    "            this = self.__head\n",
    "            comp -= 1\n",
    "            k += 1\n",
    "    elif arg == 'm':\n",
    "        if self.__size == 0:\n",
    "            raise ValueError('Lista vazia')\n",
    "        if self.__size == 1:\n",
    "            return\n",
    "        self.__tail.next = None\n",
    "        self.__head = self.mergeSort(self.__head)\n",
    "        prev = None\n",
    "        this = self.__head\n",
    "        i = 0\n",
    "        while i != self.__size:\n",
    "            prev = this\n",
    "            this = this.next\n",
    "            i += 1\n",
    "        self.__tail = prev\n",
    "        self.__tail.next = self.__head\n"
   ]
  },
  {
   "cell_type": "markdown",
   "id": "a591d422",
   "metadata": {},
   "source": [
    "## ordenar( ) | BubbleSort e MergeSort\n",
    "\n",
    "   O método de **Bubble Sort** [`'b'`] manteve-se igual ao utilizado na TAD Lista anteriormente implementada, apenas alterando o comprimento a que ciclo **`while`** percorre.\n",
    "\n",
    "   Já no **Merge Sort** [`'m'`], a fim de não inviabilizar os métodos auxiliares já construídos, tal como referido, decidimos cortar a lista entre a cabeça `head` e a cauda `tail`, permitindo assim ordenar a lista como se de uma lista simplesmente ligada se tratasse. No final voltamos a juntar os apontadores, a fim de voltar a pô-la circular. \n",
    "   \n",
    "   Uma vez mais, caso o argumento não seja fornecido, usámos uma inicialização por omissão na declaração do método para o ordenamento que considerámos mais eficiente, ou seja, o **MergeSort** [`'m'`].\n",
    "   \n",
    "   > **Complexidade Assintótica Espacial:** $O(1)$ "
   ]
  },
  {
   "cell_type": "markdown",
   "id": "64a126f8",
   "metadata": {},
   "source": [
    "---"
   ]
  },
  {
   "cell_type": "code",
   "execution_count": null,
   "id": "39bccba0",
   "metadata": {},
   "outputs": [],
   "source": [
    "    \n",
    "    # [EXTRA] - Retorna uma cópia da Lista Circular\n",
    "    def copiar(self):\n",
    "        a = ListaCircular()\n",
    "        copia = [None] * self.__size\n",
    "        this = self.__head\n",
    "        i = 0\n",
    "        while i < self.__size:\n",
    "            copia[i] = this.data\n",
    "            this = this.next\n",
    "            i += 1\n",
    "        for i in copia:\n",
    "            a.ins(i)\n",
    "        return a\n",
    "    "
   ]
  },
  {
   "cell_type": "markdown",
   "id": "473f6aa7",
   "metadata": {},
   "source": [
    "## copiar() \n",
    "[EXTRA]\n",
    "\n",
    "Uma vez mais, acrescentámos à implementação da **Lista Circular** o método **`copiar()`**, pelas razões e finalidade apontadas na implementação da **Lista Duplamente Ligada**  \n",
    "\n",
    "\n",
    "> **Complexidade Assintótica Espacial:** $O(n)$"
   ]
  },
  {
   "cell_type": "markdown",
   "id": "e0d6f584",
   "metadata": {},
   "source": [
    "<div class=\"alert alert-block alert-danger\">\n",
    "<b><h1>Fase 2 | Análise da Complexidade de Algoritmos</h1></b>\n",
    "</div>"
   ]
  },
  {
   "cell_type": "markdown",
   "id": "66f0c6d7",
   "metadata": {},
   "source": [
    "Para a **Análise Temporal Empírica** aos algoritmos escolhidos e às duas implementações, testámos o comportamento (desempenho) das suas implementações e representámos graficamente, sendo os resultados apresentados de seguida.\n",
    "\n",
    "Para tal, criámos duas função, que podem ser vistas no documento `.py` entregue.\n",
    "\n",
    "Em ambas as implementações decidimos fazer a análise empiríca aos principais algoritmos da **TAD Lista**. Deste modo, testámos os métodos **`ins`**, **`rem`**, **`existe`**, **`ordenar`** com argumento `\"b\"` e **`ordenar`** com argumento `\"m\"`."
   ]
  },
  {
   "cell_type": "markdown",
   "id": "d4f5c33f",
   "metadata": {},
   "source": [
    "<div class=\"alert alert-block alert-warning\">\n",
    "<b><h3>Lista Duplamente Ligada</h3></b>\n",
    "</div>"
   ]
  },
  {
   "cell_type": "code",
   "execution_count": 23,
   "id": "467b87fd",
   "metadata": {},
   "outputs": [
    {
     "name": "stdout",
     "output_type": "stream",
     "text": [
      "\n",
      "=========================================================== LISTA DL ==========================================================\n",
      "Nº de Exec     DL Inserir(ins)     DL Remover(rem)     DL Existe           DL Ordenar [BubbleSort]       DL Ordenar [MergeSort]        \n",
      "100            0.00024             0.00081             0.11292             0.00394                       0.00084                       \n",
      "300            0.00034             0.00807             1.25325             0.03619                       0.0038                        \n",
      "500            0.001               0.02096             4.37188             0.0947                        0.00608                       \n",
      "800            0.00113             0.04854             11.24609            0.19942                       0.0098                        \n",
      "1100           0.00136             0.11159             22.44258            0.43406                       0.01531                       \n",
      "1400           0.00214             0.16101             37.38631            0.74147                       0.02221                       \n",
      "1700           0.00202             0.21795             53.54769            0.89381                       0.02407                       \n",
      "2000           0.06273             0.30842             74.7234             1.22635                       0.02739                       \n"
     ]
    },
    {
     "data": {
      "image/png": "[encoded data removed]",
      "text/plain": [
       "<Figure size 432x288 with 1 Axes>"
      ]
     },
     "metadata": {
      "needs_background": "light"
     },
     "output_type": "display_data"
    }
   ],
   "source": [
    "# Teste à Lista Duplamente Ligada (c/ Existe) ->  [5] - Inserir | [6] - Remover | [8] - Existe | [9] - Ordenar [BubbleSort] | [9] - Ordenar [MergeSort]"
   ]
  },
  {
   "cell_type": "markdown",
   "id": "8c493438",
   "metadata": {},
   "source": [
    "**Gráfico 1:** Gráfico da Análise Temporal Empírica das implementações das funções **`ins`**, **`rem`**, **`existe`**, **`ordenar`** com argumento `\"b\"`, **`ordenar`** com argumento `\"m\"` da **TAD Lista Duplamente Ligada** ."
   ]
  },
  {
   "cell_type": "markdown",
   "id": "08f675bd",
   "metadata": {},
   "source": [
    "### Análise\n",
    "\n",
    "Relativamente à análise da complexidade dos métodos implementados, podemos verificar que a complexidade do método **`Existe`** é aquela que se salienta deveras entre todas as outras, verificando-se por isso tempos de execução superiores 70 segundos. Este facto deve-se à utilização das funções **`ordenar()`** e **`copiar()`** (função extra) que são necessárias para a impletação do algoritmo de **pesquisa binária**, tal como já referido. \n",
    "\n",
    "Uma vez que a complexidade do **`existe()`** é tão distinta em comparação com as restantes, críamos um gráfico sem esta função de modo a que obtivéssemos um gráfico com uma escala que nos permitisse analisar as outras complexidades, tal como se pode observar de seguida."
   ]
  },
  {
   "cell_type": "code",
   "execution_count": 12,
   "id": "0ad5b9ed",
   "metadata": {
    "scrolled": false
   },
   "outputs": [
    {
     "name": "stdout",
     "output_type": "stream",
     "text": [
      "=========================================================== LISTA DL ==========================================================\n",
      "Nº de Exec     DL Inserir(ins)     DL Remover(rem)     DL Ordenar (BubbleSort)       DL Ordenar (MergeSort)        \n",
      "100            0.00012             0.00095             0.00333                       0.00094                       \n",
      "300            0.00043             0.00854             0.03469                       0.00461                       \n",
      "500            0.00144             0.03935             0.11297                       0.00812                       \n",
      "800            0.00233             0.06732             0.26178                       0.01296                       \n",
      "1100           0.00222             0.1259              0.4717                        0.02208                       \n",
      "1400           0.00199             0.19032             0.79447                       0.02118                       \n",
      "1700           0.00252             0.28335             1.11753                       0.02971                       \n",
      "2000           0.00281             0.35902             1.48934                       0.0344                        \n"
     ]
    },
    {
     "data": {
      "image/png": "[encoded data removed]",
      "text/plain": [
       "<Figure size 432x288 with 1 Axes>"
      ]
     },
     "metadata": {
      "needs_background": "light"
     },
     "output_type": "display_data"
    }
   ],
   "source": [
    "# Teste à Lista Duplamente Ligada ->  [5] - Inserir | [6] - Remover | [9] - Ordenar [BubbleSort] | [9] - Ordenar [MergeSort]"
   ]
  },
  {
   "cell_type": "markdown",
   "id": "490c0e74",
   "metadata": {},
   "source": [
    "**Gráfico 2:** Gráfico da Análise Temporal Empírica das implementações das funções **`ins`**, **`rem`**, **`ordenar`** com argumento `\"b\"`, **`ordenar`** com argumento `\"m\"` da **TAD Lista Duplamente Ligada** ."
   ]
  },
  {
   "cell_type": "markdown",
   "id": "dbe309f3",
   "metadata": {},
   "source": [
    "---\n",
    "\n",
    "Deste modo, em relação ao gráfico da **Lista Duplamente Ligada**, sem a função **`Existe`**, observa-se que o **`BubbleSort`** é a função cujo tempo cronometrado de execução foi o maior, corroborando por isso o facto de entre os algoritmos em estudo ser aquele que apresenta maior ordem de complexidade, sendo esta $O(n^2)$. \n",
    "\n",
    "Segue-se a função **`Remove`** com a ordem de complexidade $O(n)$, e as funções **`MergeSort`** e **`Insert`** com a ordem de complexidade $O(n logn)$ e $O(1)$, respetivamente.\n",
    "\n",
    "\n",
    "**Nota:** Para o confronto da complexidade conhecida de cada um dos métodos usámos sempre o **Pior dos Casos** _(Worst Case)_.\n"
   ]
  },
  {
   "cell_type": "markdown",
   "id": "eea21f7e",
   "metadata": {},
   "source": [
    "---"
   ]
  },
  {
   "cell_type": "markdown",
   "id": "9eaa82f3",
   "metadata": {},
   "source": [
    "<div class=\"alert alert-block alert-info\">\n",
    "<b><h3>Lista Circular</h3></b>\n",
    "</div>"
   ]
  },
  {
   "cell_type": "code",
   "execution_count": 21,
   "id": "e3b39356",
   "metadata": {},
   "outputs": [
    {
     "name": "stdout",
     "output_type": "stream",
     "text": [
      "\n",
      "====================================================== LISTA CIRCULAR =========================================================\n",
      "Nº de Exec     LC Inserir(ins)     LC Remover(rem)     LC Existe           LC Ordenar [BubbleSort]       LC Ordenar [MergeSort]        \n",
      "100            0.00011             0.00085             0.11659             0.00406                       0.00073                       \n",
      "300            0.00034             0.00943             1.30882             0.03491                       0.00292                       \n",
      "500            0.00084             0.02728             3.81739             0.10299                       0.0067                        \n",
      "800            0.00099             0.07948             11.82456            0.32978                       0.13195                       \n",
      "1100           0.00226             0.13798             23.91303            0.48395                       0.01428                       \n",
      "1400           0.00221             0.2131              40.1851             0.81485                       0.02065                       \n",
      "1700           0.0022              0.38611             62.82711            1.45657                       0.0339                        \n",
      "2000           0.00282             0.41195             94.74485            1.90627                       0.03187                       \n"
     ]
    },
    {
     "data": {
      "image/png": "[encoded data removed]",
      "text/plain": [
       "<Figure size 432x288 with 1 Axes>"
      ]
     },
     "metadata": {
      "needs_background": "light"
     },
     "output_type": "display_data"
    }
   ],
   "source": [
    "# Teste à Lista Circular (c/ Existe)->  [5] - Inserir | [6] - Remover | [8] - Existe | [9] - Ordenar [BubbleSort] | [9] - Ordenar [MergeSort]"
   ]
  },
  {
   "cell_type": "markdown",
   "id": "2a657225",
   "metadata": {},
   "source": [
    "**Gráfico 3:** Gráfico da Análise Temporal Empírica das implementações das funções **`ins`**, **`rem`**, **`existe`**, **`ordenar`** com argumento `\"b\"`, **`ordenar`** com argumento `\"m\"` da **TAD Lista Circular** ."
   ]
  },
  {
   "cell_type": "code",
   "execution_count": 14,
   "id": "7bc72f9a",
   "metadata": {
    "scrolled": false
   },
   "outputs": [
    {
     "name": "stdout",
     "output_type": "stream",
     "text": [
      "====================================================== LISTA CIRCULAR =========================================================\n",
      "Nº de Exec     LC Inserir(ins)     LC Remover(rem)     LC Ordenar (BubbleSort)       LC Ordenar (MergeSort)        \n",
      "100            0.0001              0.00208             0.00435                       0.00092                       \n",
      "300            0.00124             0.01532             0.03612                       0.0029                        \n",
      "500            0.00077             0.04534             0.09829                       0.00556                       \n",
      "800            0.00082             0.12069             0.26883                       0.00928                       \n",
      "1100           0.00204             0.21975             0.47645                       0.01549                       \n",
      "1400           0.00178             0.47715             0.80491                       0.02877                       \n",
      "1700           0.0021              0.62007             1.2496                        0.04931                       \n",
      "2000           0.00253             0.91585             1.99533                       0.15026                       \n"
     ]
    },
    {
     "data": {
      "image/png": "[encoded data removed]",
      "text/plain": [
       "<Figure size 432x288 with 1 Axes>"
      ]
     },
     "metadata": {
      "needs_background": "light"
     },
     "output_type": "display_data"
    }
   ],
   "source": [
    "# Teste à Lista Circular ->  [5] - Inserir | [6] - Remover | [9] - Ordenar [BubbleSort] | [9] - Ordenar [MergeSort]"
   ]
  },
  {
   "cell_type": "markdown",
   "id": "a328322a",
   "metadata": {},
   "source": [
    "**Gráfico 4:** Gráfico da Análise Temporal Empírica das implementações das funções **`ins`**, **`rem`**, **`ordenar`** com argumento `\"b\"`, **`ordenar`** com argumento `\"m\"` da **TAD Lista Circular** ."
   ]
  },
  {
   "cell_type": "markdown",
   "id": "70a3ebca",
   "metadata": {},
   "source": [
    "### Análise\n",
    "\n",
    "Os resultados em ambos os gráficos foram semelhantes, pelo que se pode concluir que independentemente do tipo de **TAD Lista** os métodos implementados mantêm as complexidades temporais."
   ]
  },
  {
   "cell_type": "markdown",
   "id": "b3d7a3dc",
   "metadata": {},
   "source": [
    "\n",
    "\n",
    "\n",
    "\n",
    "---"
   ]
  },
  {
   "cell_type": "markdown",
   "id": "0048a0a5",
   "metadata": {},
   "source": [
    "# Conclusão\n",
    "\n",
    "   É indubitável a importância da **Lista** como um poderoso, mas simples, mecanismo de recolha de itens onde cada item detém uma posição relativa em relação aos outros.\n",
    "   \n",
    "   O nosso principal objetivo foi transpor os métodos principais de uma lista **estática** do tipo `list` para uma lista dinâmica mantendo/melhorando as complexidades dos algoritmos usados.\n",
    "\n",
    "   Através do trabalho realizado, podemos concluir que o método que apresenta maior complexidade temporal é o **`existe`**, seguindo-se o **`ordenar`** com o **Bubble Sort**, o **`rem`**, o **`ordenar`** com o **MergeSort** e o **`ins`**.\n",
    "   \n",
    "   É importante salientar que em ambas as implementações **TAD Lista** a complexidade espacial manteve-se igual.\n",
    "      \n",
    "  Deste modo alcançámos o objetivo do trabalho com sucesso, uma vez que explorámos as representações do **TAD Lista** **`Duplamente Ligada`** e **`Circular`** em Python e os algoritmos de pesquisa **`sequencial`** e **`binária`** e de ordenamento **`BubbleSort`** e **`MergeSort`**.\n",
    "\n",
    "  É ainda relevante salientar que a maior dificuldade sentida foi no método **`existe`** uma vez que ao usar o algoritmo de **pesquisa binária**, a lista tem de estar ordenada, pelo que tivémos de usar um método extra para fazer a cópia da lista e, posteriormente, ordenar essa cópia. De seguinda tivemos ainda de realizar uma **pesquisa sequencial** para cumprir o objetivo solicitado. Assim, a complexidade aumentou substancialmente, o que levou aos resultados obtidos nos gráficos. \n"
   ]
  },
  {
   "cell_type": "markdown",
   "id": "50b365eb",
   "metadata": {},
   "source": [
    "---"
   ]
  },
  {
   "cell_type": "markdown",
   "id": "f4ae16b4",
   "metadata": {},
   "source": [
    "### Responsabilidade de cada elemento do grupo\n",
    "\n",
    "- **André Silvestre** Nº104532 **>** Implementação da TAD Lista Circular (1-7) e respetiva explicação no relatório\n",
    "- **Diogo Catarino** Nº104745 **>** Análise Empiríca e Assintótica das Implementações e respetiva explicação no relatório\n",
    "- **Eduardo Silva** Nº104943 **>** Implementação da TAD Lista Duplamente Ligada (1-7) e respetiva explicação no relatório\n",
    "- **Francisco Gomes** Nº104944 **>** Implementação dos Algoritmos de Pesquisa Binária e Ordenação (8-9) e respetiva explicação no relatório\n",
    "\n",
    "**Nota:** Apesar da distribuição apresentada todos os elementos trabalharam em conjunto em todas as fases de modo a obter o melhor trabalho possível."
   ]
  },
  {
   "cell_type": "markdown",
   "id": "e54e6734",
   "metadata": {},
   "source": [
    "---"
   ]
  },
  {
   "cell_type": "markdown",
   "id": "05dce88c",
   "metadata": {},
   "source": [
    "## Bibliografia\n",
    "\n",
    "- Material disponibilzado pelos docentes\n",
    "\n",
    "- M. Goodrich, R. Tamassia e M. Goldwasser, Data Structures & Algorithms in Python, Wiley, 2013.\n",
    "\n",
    "- Problem Solving with Algorithms and Data Structures using Python by Bradley N. Miller, David L. Ranum Release 3.0, 2013.\n"
   ]
  }
 ],
 "metadata": {
  "kernelspec": {
   "display_name": "Python 3 (ipykernel)",
   "language": "python",
   "name": "python3"
  },
  "language_info": {
   "codemirror_mode": {
    "name": "ipython",
    "version": 3
   },
   "file_extension": ".py",
   "mimetype": "text/x-python",
   "name": "python",
   "nbconvert_exporter": "python",
   "pygments_lexer": "ipython3",
   "version": "3.9.13"
  },
  "latex_envs": {
   "LaTeX_envs_menu_present": true,
   "autoclose": false,
   "autocomplete": true,
   "bibliofile": "biblio.bib",
   "cite_by": "apalike",
   "current_citInitial": 1,
   "eqLabelWithNumbers": true,
   "eqNumInitial": 1,
   "hotkeys": {
    "equation": "Ctrl-E",
    "itemize": "Ctrl-I"
   },
   "labels_anchors": false,
   "latex_user_defs": false,
   "report_style_numbering": false,
   "user_envs_cfg": false
  },
  "nbTranslate": {
   "displayLangs": [
    "*"
   ],
   "hotkey": "alt-t",
   "langInMainMenu": true,
   "sourceLang": "en",
   "targetLang": "fr",
   "useGoogleTranslate": true
  },
  "varInspector": {
   "cols": {
    "lenName": 16,
    "lenType": 16,
    "lenVar": 40
   },
   "kernels_config": {
    "python": {
     "delete_cmd_postfix": "",
     "delete_cmd_prefix": "del ",
     "library": "var_list.py",
     "varRefreshCmd": "print(var_dic_list())"
    },
    "r": {
     "delete_cmd_postfix": ") ",
     "delete_cmd_prefix": "rm(",
     "library": "var_list.r",
     "varRefreshCmd": "cat(var_dic_list()) "
    }
   },
   "types_to_exclude": [
    "module",
    "function",
    "builtin_function_or_method",
    "instance",
    "_Feature"
   ],
   "window_display": false
  }
 },
 "nbformat": 4,
 "nbformat_minor": 5
}
